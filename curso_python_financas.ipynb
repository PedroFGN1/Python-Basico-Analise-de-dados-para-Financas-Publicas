{
 "cells": [
  {
   "cell_type": "markdown",
   "id": "0653dad6",
   "metadata": {},
   "source": [
    "# Curso de Python Básico para Análise de Dados em Finanças Públicas\n",
    "Este notebook acompanha a apostila do curso, com conteúdo prático para execução no Google Colab ou Jupyter Notebook."
   ]
  },
  {
   "cell_type": "markdown",
   "id": "e0a6e59b",
   "metadata": {},
   "source": [
    "## Ambiente de Trabalho\n",
    "Recomenda-se o uso do [Google Colab](https://colab.research.google.com) para executar este notebook sem necessidade de instalação local.\n",
    "\n",
    "Se estiver usando localmente, instale as bibliotecas necessárias com o comando:\n",
    "```bash\n",
    "pip install pandas matplotlib seaborn openpyxl\n",
    "```"
   ]
  },
  {
   "cell_type": "markdown",
   "id": "9f1ab6ed",
   "metadata": {},
   "source": [
    "## Aula 1 – Fundamentos da Linguagem Python"
   ]
  },
  {
   "cell_type": "code",
   "execution_count": null,
   "id": "17308694",
   "metadata": {},
   "outputs": [],
   "source": [
    "# Variáveis e tipos de dados\n",
    "nome = \"João\"\n",
    "idade = 35\n",
    "salario = 2500.75\n",
    "ativo = True"
   ]
  },
  {
   "cell_type": "code",
   "execution_count": null,
   "id": "06e9b801",
   "metadata": {},
   "outputs": [],
   "source": [
    "# Operadores matemáticos\n",
    "soma = 10 + 5\n",
    "subtracao = 10 - 2\n",
    "multiplicacao = 4 * 3\n",
    "divisao = 20 / 4"
   ]
  },
  {
   "cell_type": "code",
   "execution_count": null,
   "id": "aefefb8f",
   "metadata": {},
   "outputs": [],
   "source": [
    "# Listas\n",
    "cidades = [\"Goiânia\", \"Anápolis\", \"Rio Verde\"]\n",
    "cidades.append(\"Catalão\")\n",
    "print(cidades[0])"
   ]
  },
  {
   "cell_type": "code",
   "execution_count": null,
   "id": "34704807",
   "metadata": {},
   "outputs": [],
   "source": [
    "# Dicionários\n",
    "municipio = {\n",
    "    \"nome\": \"Goiânia\",\n",
    "    \"populacao\": 1500000,\n",
    "    \"receita\": 3200000000\n",
    "}\n",
    "print(municipio[\"nome\"])"
   ]
  },
  {
   "cell_type": "code",
   "execution_count": null,
   "id": "8e67709a",
   "metadata": {},
   "outputs": [],
   "source": [
    "# Estrutura condicional\n",
    "if salario > 3000:\n",
    "    print(\"Salário alto\")\n",
    "else:\n",
    "    print(\"Salário médio ou baixo\")"
   ]
  },
  {
   "cell_type": "code",
   "execution_count": null,
   "id": "d4e2649d",
   "metadata": {},
   "outputs": [],
   "source": [
    "# Laço de repetição\n",
    "for cidade in cidades:\n",
    "    print(cidade)"
   ]
  },
  {
   "cell_type": "markdown",
   "id": "f8cf86eb",
   "metadata": {},
   "source": [
    "**Exercício:**\n",
    "Crie um dicionário representando um município com as chaves: nome, população, receita, despesa. Calcule o déficit ou superávit."
   ]
  },
  {
   "cell_type": "markdown",
   "id": "f3567c5d",
   "metadata": {},
   "source": [
    "## Aula 2 – Manipulação de Dados com Pandas"
   ]
  },
  {
   "cell_type": "code",
   "execution_count": null,
   "id": "dc243008",
   "metadata": {},
   "outputs": [],
   "source": [
    "import pandas as pd"
   ]
  },
  {
   "cell_type": "code",
   "execution_count": null,
   "id": "99d961e9",
   "metadata": {},
   "outputs": [],
   "source": [
    "# Leitura do arquivo CSV\n",
    "df = pd.read_csv(\"dados_receita_exemplo.csv\", sep=\";\")\n",
    "df.head()"
   ]
  },
  {
   "cell_type": "code",
   "execution_count": null,
   "id": "69026153",
   "metadata": {},
   "outputs": [],
   "source": [
    "# Exploração inicial\n",
    "print(df.columns)\n",
    "print(df.shape)\n",
    "print(df.info())\n",
    "print(df.describe())"
   ]
  },
  {
   "cell_type": "code",
   "execution_count": null,
   "id": "431c94a2",
   "metadata": {},
   "outputs": [],
   "source": [
    "# Seleção de dados\n",
    "print(df[\"Receita\"])\n",
    "df_go = df[df[\"UF\"] == \"GO\"]\n",
    "df_subset = df[[\"Municipio\", \"Receita\"]]"
   ]
  },
  {
   "cell_type": "code",
   "execution_count": null,
   "id": "02873493",
   "metadata": {},
   "outputs": [],
   "source": [
    "# Agrupamento\n",
    "df.groupby(\"UF\")[\"Receita\"].sum()"
   ]
  },
  {
   "cell_type": "code",
   "execution_count": null,
   "id": "5d27db5c",
   "metadata": {},
   "outputs": [],
   "source": [
    "# Ordenação\n",
    "df.sort_values(by=\"Receita\", ascending=False)"
   ]
  },
  {
   "cell_type": "markdown",
   "id": "9cbea67b",
   "metadata": {},
   "source": [
    "**Exercício:**\n",
    "Carregue o CSV, selecione dados do seu estado, agrupe por tipo de receita e exiba os 5 municípios com maior receita."
   ]
  },
  {
   "cell_type": "markdown",
   "id": "aa994e71",
   "metadata": {},
   "source": [
    "## Aula 3 – Limpeza e Tratamento de Dados"
   ]
  },
  {
   "cell_type": "code",
   "execution_count": null,
   "id": "7458fcd0",
   "metadata": {},
   "outputs": [],
   "source": [
    "# Dados ausentes\n",
    "print(df.isnull().sum())"
   ]
  },
  {
   "cell_type": "code",
   "execution_count": null,
   "id": "c30f8c74",
   "metadata": {},
   "outputs": [],
   "source": [
    "# Preencher valores ausentes\n",
    "df[\"Receita\"] = df[\"Receita\"].fillna(0)"
   ]
  },
  {
   "cell_type": "code",
   "execution_count": null,
   "id": "b6a68324",
   "metadata": {},
   "outputs": [],
   "source": [
    "# Remover linhas nulas\n",
    "df = df.dropna()"
   ]
  },
  {
   "cell_type": "code",
   "execution_count": null,
   "id": "c0623a7d",
   "metadata": {},
   "outputs": [],
   "source": [
    "# Corrigir tipos\n",
    "df[\"Ano\"] = df[\"Ano\"].astype(int)\n",
    "df[\"Receita\"] = df[\"Receita\"].astype(float)"
   ]
  },
  {
   "cell_type": "code",
   "execution_count": null,
   "id": "8b95c4ca",
   "metadata": {},
   "outputs": [],
   "source": [
    "# Padronizar texto\n",
    "df[\"Municipio\"] = df[\"Municipio\"].str.upper()\n",
    "df[\"UF\"] = df[\"UF\"].str.strip()"
   ]
  },
  {
   "cell_type": "code",
   "execution_count": null,
   "id": "a4a80afc",
   "metadata": {},
   "outputs": [],
   "source": [
    "# Duplicatas\n",
    "print(df[df.duplicated()])\n",
    "df = df.drop_duplicates()"
   ]
  },
  {
   "cell_type": "markdown",
   "id": "874276eb",
   "metadata": {},
   "source": [
    "## Aula 4 – Visualização de Dados"
   ]
  },
  {
   "cell_type": "code",
   "execution_count": null,
   "id": "781ae0b9",
   "metadata": {},
   "outputs": [],
   "source": [
    "import matplotlib.pyplot as plt\n",
    "import seaborn as sns"
   ]
  },
  {
   "cell_type": "code",
   "execution_count": null,
   "id": "d46d5c7d",
   "metadata": {},
   "outputs": [],
   "source": [
    "# Gráfico de linha\n",
    "plt.plot(df[\"Ano\"], df[\"Receita\"])\n",
    "plt.title(\"Evolução da Receita\")\n",
    "plt.xlabel(\"Ano\")\n",
    "plt.ylabel(\"Receita\")\n",
    "plt.show()"
   ]
  },
  {
   "cell_type": "code",
   "execution_count": null,
   "id": "12534287",
   "metadata": {},
   "outputs": [],
   "source": [
    "# Gráfico de barras\n",
    "top_mun = df.sort_values(by=\"Receita\", ascending=False).head(5)\n",
    "plt.bar(top_mun[\"Municipio\"], top_mun[\"Receita\"])\n",
    "plt.title(\"Top 5 Municípios por Receita\")\n",
    "plt.xticks(rotation=45)\n",
    "plt.show()"
   ]
  },
  {
   "cell_type": "markdown",
   "id": "0bcbc7af",
   "metadata": {},
   "source": [
    "## Aula 5 – Exportação e Automação de Relatórios"
   ]
  },
  {
   "cell_type": "code",
   "execution_count": null,
   "id": "2426cecf",
   "metadata": {},
   "outputs": [],
   "source": [
    "# Exportar para CSV e Excel\n",
    "df.to_csv(\"dados_limpos.csv\", index=False, sep=\";\")\n",
    "df.to_excel(\"dados_relatorio.xlsx\", index=False)"
   ]
  },
  {
   "cell_type": "code",
   "execution_count": null,
   "id": "e6e53c29",
   "metadata": {},
   "outputs": [],
   "source": [
    "# Salvar gráfico como imagem\n",
    "plt.plot(df[\"Ano\"], df[\"Receita\"])\n",
    "plt.title(\"Receita\")\n",
    "plt.savefig(\"grafico_receita.png\")\n",
    "plt.close()"
   ]
  },
  {
   "cell_type": "code",
   "execution_count": null,
   "id": "7c2e9e88",
   "metadata": {},
   "outputs": [],
   "source": [
    "# Criar relatório em txt\n",
    "municipio = \"Goiânia\"\n",
    "total = df[df[\"Municipio\"] == municipio][\"Receita\"].sum()\n",
    "relatorio = f\"Receita Total de {municipio}: R$ {total:,.2f}\"\n",
    "with open(\"relatorio_goiania.txt\", \"w\") as f:\n",
    "    f.write(relatorio)"
   ]
  },
  {
   "cell_type": "markdown",
   "id": "499579e1",
   "metadata": {},
   "source": [
    "Na próxima etapa, vamos aprender como integrar Python com APIs públicas para coletar dados diretamente da internet."
   ]
  }
 ],
 "metadata": {},
 "nbformat": 4,
 "nbformat_minor": 5
}